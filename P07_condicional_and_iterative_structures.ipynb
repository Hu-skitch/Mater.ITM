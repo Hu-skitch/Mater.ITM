{
  "cells": [
    {
      "cell_type": "markdown",
      "metadata": {
        "id": "view-in-github",
        "colab_type": "text"
      },
      "source": [
        "<a href=\"https://colab.research.google.com/github/Hu-skitch/Mater.ITM/blob/main/P07_condicional_and_iterative_structures.ipynb\" target=\"_parent\"><img src=\"https://colab.research.google.com/assets/colab-badge.svg\" alt=\"Open In Colab\"/></a>"
      ]
    },
    {
      "cell_type": "markdown",
      "metadata": {
        "id": "cdl1rVINk_4o"
      },
      "source": [
        "# Working with conditional and iterative structures\n",
        "\n"
      ]
    },
    {
      "cell_type": "markdown",
      "metadata": {
        "id": "VinJX1v_k_4p"
      },
      "source": [
        "### Conditional structures"
      ]
    },
    {
      "cell_type": "markdown",
      "metadata": {
        "id": "qV-oBUHXk_4p"
      },
      "source": [
        "Structure __if__ with 2 branches"
      ]
    },
    {
      "cell_type": "code",
      "execution_count": 1,
      "metadata": {
        "colab": {
          "base_uri": "https://localhost:8080/"
        },
        "id": "KltPzqtqk_4p",
        "outputId": "7facecfc-6e54-4df7-ba0b-87f7ab145f1d"
      },
      "outputs": [
        {
          "output_type": "stream",
          "name": "stdout",
          "text": [
            "over 18\n",
            "final\n"
          ]
        }
      ],
      "source": [
        "age = 30\n",
        "if age < 18:\n",
        "    print(\"underage\")\n",
        "else:\n",
        "    print(\"over 18\")\n",
        "print(\"final\")"
      ]
    },
    {
      "cell_type": "markdown",
      "metadata": {
        "id": "DPCbIiwlk_4q"
      },
      "source": [
        "Structure __if__ with several branches"
      ]
    },
    {
      "cell_type": "code",
      "execution_count": 2,
      "metadata": {
        "colab": {
          "base_uri": "https://localhost:8080/"
        },
        "id": "5WL7pUMrk_4q",
        "outputId": "79318045-a2b5-4ccc-9dc0-e70cb12d9e13"
      },
      "outputs": [
        {
          "output_type": "stream",
          "name": "stdout",
          "text": [
            "young\n"
          ]
        }
      ],
      "source": [
        "age = 33\n",
        "if age < 13:\n",
        "    print( \"child\" )\n",
        "elif age < 18:\n",
        "    print( \"teenager\" )\n",
        "elif age < 35:\n",
        "    print( \"young\" )\n",
        "elif age < 55:\n",
        "    print( \"median age\" )\n",
        "elif age < 75:\n",
        "    print( \"old\" )\n",
        "else: print(\"elderly\")"
      ]
    },
    {
      "cell_type": "markdown",
      "metadata": {
        "id": "xeTaKD90k_4q"
      },
      "source": [
        "Using link operators in conditions"
      ]
    },
    {
      "cell_type": "code",
      "execution_count": 5,
      "metadata": {
        "colab": {
          "base_uri": "https://localhost:8080/"
        },
        "id": "oSBsxLvYk_4q",
        "outputId": "197c157a-e95b-440a-da58-470681fca28c"
      },
      "outputs": [
        {
          "output_type": "stream",
          "name": "stdout",
          "text": [
            "condition1\n"
          ]
        }
      ],
      "source": [
        "var1 = 5\n",
        "var2 = 'A'\n",
        "if (var1 == 5) and (var2 == 'A'):\n",
        "    print(\"condition1\")"
      ]
    },
    {
      "cell_type": "code",
      "execution_count": 6,
      "metadata": {
        "colab": {
          "base_uri": "https://localhost:8080/"
        },
        "id": "SQCbz82Ak_4q",
        "outputId": "f42280b7-fa8b-4cdc-97ae-5594a93b9cd3"
      },
      "outputs": [
        {
          "output_type": "stream",
          "name": "stdout",
          "text": [
            "condition1\n"
          ]
        }
      ],
      "source": [
        "var1 = 5\n",
        "var2 = 'A'\n",
        "if (var1 == 5) & (var2 == 'A'):\n",
        "    print(\"condition1\")"
      ]
    },
    {
      "cell_type": "code",
      "execution_count": 9,
      "metadata": {
        "colab": {
          "base_uri": "https://localhost:8080/"
        },
        "id": "yAjDysx7k_4r",
        "outputId": "b5a25cdc-e454-4ae9-c65b-eccc19ef9dc6"
      },
      "outputs": [
        {
          "output_type": "stream",
          "name": "stdout",
          "text": [
            "condition1\n"
          ]
        }
      ],
      "source": [
        "var1 = 5\n",
        "var2 = 'A'\n",
        "if (var1 == 5) or (var2 == 'B'):\n",
        "    print(\"condition1\")"
      ]
    },
    {
      "cell_type": "code",
      "execution_count": 10,
      "metadata": {
        "colab": {
          "base_uri": "https://localhost:8080/"
        },
        "id": "cBPtArRwk_4r",
        "outputId": "4758e28c-956b-4786-a0f4-b5e815689036"
      },
      "outputs": [
        {
          "output_type": "stream",
          "name": "stdout",
          "text": [
            "condition1\n"
          ]
        }
      ],
      "source": [
        "var1 = 5\n",
        "var2 = 'A'\n",
        "if (var1 == 5) | (var2 == 'B'):\n",
        "    print(\"condition1\")"
      ]
    },
    {
      "cell_type": "code",
      "execution_count": 11,
      "metadata": {
        "colab": {
          "base_uri": "https://localhost:8080/"
        },
        "id": "95bqX3ZIk_4r",
        "outputId": "9c948c58-b16c-4a2c-91b3-2617fecc7965"
      },
      "outputs": [
        {
          "output_type": "stream",
          "name": "stdout",
          "text": [
            "condition1\n"
          ]
        }
      ],
      "source": [
        "var1 = 5\n",
        "var2 = 'A'\n",
        "if all([var1 == 5 , var2 == 'A']):\n",
        "    print(\"condition1\")"
      ]
    },
    {
      "cell_type": "code",
      "execution_count": 12,
      "metadata": {
        "colab": {
          "base_uri": "https://localhost:8080/"
        },
        "id": "Ai-Er8ZHk_4r",
        "outputId": "03b38468-518c-41a6-89ff-320511594775"
      },
      "outputs": [
        {
          "output_type": "stream",
          "name": "stdout",
          "text": [
            "condition1\n"
          ]
        }
      ],
      "source": [
        "var1 = 5\n",
        "var2 = 'A'\n",
        "listacond = [var1 == 5 , var2 == 'A']\n",
        "if all(listacond):\n",
        "    print(\"condition1\")"
      ]
    },
    {
      "cell_type": "code",
      "execution_count": null,
      "metadata": {
        "id": "hE8pCm1zk_4r",
        "outputId": "6c75b84e-d472-47cc-c181-f265d67bb11c"
      },
      "outputs": [
        {
          "name": "stdout",
          "output_type": "stream",
          "text": [
            "condition1\n"
          ]
        }
      ],
      "source": [
        "var1 = 5\n",
        "var2 = 'A'\n",
        "if any([var1 == 5 , var2 == 'B']):\n",
        "    print(\"condition1\")"
      ]
    },
    {
      "cell_type": "markdown",
      "metadata": {
        "id": "8PTrglOEk_4r"
      },
      "source": [
        "Another way is to write the conditionals"
      ]
    },
    {
      "cell_type": "code",
      "execution_count": 15,
      "metadata": {
        "scrolled": true,
        "colab": {
          "base_uri": "https://localhost:8080/",
          "height": 36
        },
        "id": "FOUe-LaWk_4s",
        "outputId": "55b3b9cf-8183-459e-852b-dbf0ff316e55"
      },
      "outputs": [
        {
          "output_type": "execute_result",
          "data": {
            "text/plain": [
              "'Under 18'"
            ],
            "application/vnd.google.colaboratory.intrinsic+json": {
              "type": "string"
            }
          },
          "metadata": {},
          "execution_count": 15
        }
      ],
      "source": [
        "age = 10\n",
        "res = \"Over 18\" if age >= 18 else \"Under 18\"\n",
        "res"
      ]
    },
    {
      "cell_type": "code",
      "execution_count": 16,
      "metadata": {
        "colab": {
          "base_uri": "https://localhost:8080/",
          "height": 36
        },
        "id": "4LjXXJ2Gk_4s",
        "outputId": "4efa139e-729e-4e20-beda-3aa110b46bcb"
      },
      "outputs": [
        {
          "output_type": "execute_result",
          "data": {
            "text/plain": [
              "'Under 18'"
            ],
            "application/vnd.google.colaboratory.intrinsic+json": {
              "type": "string"
            }
          },
          "metadata": {},
          "execution_count": 16
        }
      ],
      "source": [
        "age = 10\n",
        "if age >= 18:\n",
        "    res = \"Over 18\"\n",
        "else:\n",
        "    res = \"Under 18\"\n",
        "res"
      ]
    },
    {
      "cell_type": "code",
      "execution_count": 22,
      "metadata": {
        "colab": {
          "base_uri": "https://localhost:8080/"
        },
        "id": "ZJ-U5qj4k_4s",
        "outputId": "d36752e1-8bbb-4ddd-b869-56bb0c1edb7a"
      },
      "outputs": [
        {
          "output_type": "stream",
          "name": "stdout",
          "text": [
            "OK\n"
          ]
        }
      ],
      "source": [
        "a = 12\n",
        "if a > 10 and a < 30:\n",
        "    print(\"OK\")"
      ]
    },
    {
      "cell_type": "code",
      "execution_count": 23,
      "metadata": {
        "colab": {
          "base_uri": "https://localhost:8080/"
        },
        "id": "QsfOAxAMk_4s",
        "outputId": "d6930cbb-44ac-4de3-fd78-bb9b8272e6eb"
      },
      "outputs": [
        {
          "output_type": "stream",
          "name": "stdout",
          "text": [
            "OK\n"
          ]
        }
      ],
      "source": [
        "if 10 < a < 30:\n",
        "    print(\"OK\")"
      ]
    },
    {
      "cell_type": "markdown",
      "metadata": {
        "id": "WLgtzMDpk_4s"
      },
      "source": [
        "Creating conditionals using dictionaries"
      ]
    },
    {
      "cell_type": "code",
      "execution_count": 26,
      "metadata": {
        "id": "sJmC8fzZk_4s"
      },
      "outputs": [],
      "source": [
        "customer_type = 'J'"
      ]
    },
    {
      "cell_type": "code",
      "execution_count": 27,
      "metadata": {
        "colab": {
          "base_uri": "https://localhost:8080/"
        },
        "id": "M3zdLi_Bk_4s",
        "outputId": "3b7de310-be3e-4072-f680-0dd66bc44a10"
      },
      "outputs": [
        {
          "output_type": "execute_result",
          "data": {
            "text/plain": [
              "4"
            ]
          },
          "metadata": {},
          "execution_count": 27
        }
      ],
      "source": [
        "if customer_type == 'A':\n",
        "    segmento = 1\n",
        "elif customer_type == 'B':\n",
        "    segmento = 2\n",
        "elif customer_type == 'C':\n",
        "    segmento = 3\n",
        "else:\n",
        "    segmento = 4\n",
        "segmento"
      ]
    },
    {
      "cell_type": "code",
      "execution_count": 28,
      "metadata": {
        "colab": {
          "base_uri": "https://localhost:8080/"
        },
        "id": "W6_D_WZkk_4s",
        "outputId": "65cf6eba-606a-42da-ca34-52628b162b5d"
      },
      "outputs": [
        {
          "output_type": "execute_result",
          "data": {
            "text/plain": [
              "4"
            ]
          },
          "metadata": {},
          "execution_count": 28
        }
      ],
      "source": [
        "dicseg = {'A':1, 'B':2, 'C':3}\n",
        "if customer_type in dicseg:\n",
        "    segment = dicseg[customer_type]\n",
        "else:\n",
        "    segment = 4\n",
        "segment"
      ]
    },
    {
      "cell_type": "markdown",
      "metadata": {
        "id": "3okkfnsak_4s"
      },
      "source": [
        "Since version 3.10 we have the match - case structure"
      ]
    },
    {
      "cell_type": "code",
      "execution_count": 29,
      "metadata": {
        "colab": {
          "base_uri": "https://localhost:8080/"
        },
        "id": "1nZ4S_oJk_4s",
        "outputId": "66d8f1c9-3468-4f49-89aa-68c2b0fc776a"
      },
      "outputs": [
        {
          "output_type": "execute_result",
          "data": {
            "text/plain": [
              "sys.version_info(major=3, minor=10, micro=12, releaselevel='final', serial=0)"
            ]
          },
          "metadata": {},
          "execution_count": 29
        }
      ],
      "source": [
        "import sys\n",
        "sys.version_info"
      ]
    },
    {
      "cell_type": "code",
      "execution_count": 34,
      "metadata": {
        "colab": {
          "base_uri": "https://localhost:8080/"
        },
        "id": "brTRTQ1rk_4s",
        "outputId": "be34f4da-c820-495f-b860-7980d6069dc1"
      },
      "outputs": [
        {
          "output_type": "stream",
          "name": "stdout",
          "text": [
            "No match found\n"
          ]
        }
      ],
      "source": [
        "var = 'Hello'\n",
        "match var:\n",
        "    case 'Hello, World!':\n",
        "        print('Hello to you too!')\n",
        "    case 'Goodbye, World!':\n",
        "        print('See you later')\n",
        "    case other:\n",
        "        print('No match found')"
      ]
    },
    {
      "cell_type": "markdown",
      "metadata": {
        "id": "J7sRPfsJk_4s"
      },
      "source": [
        "## Loops"
      ]
    },
    {
      "cell_type": "markdown",
      "metadata": {
        "id": "JiIkqjFik_4s"
      },
      "source": [
        "Example of __loops__: working with __lists__"
      ]
    },
    {
      "cell_type": "code",
      "execution_count": 38,
      "metadata": {
        "colab": {
          "base_uri": "https://localhost:8080/"
        },
        "id": "PFP8-ttFk_4t",
        "outputId": "b1ea0ac9-853c-40b9-9c7d-85c80ce62f13"
      },
      "outputs": [
        {
          "output_type": "stream",
          "name": "stdout",
          "text": [
            "1\n",
            "2\n",
            "3\n",
            "4\n",
            "5\n",
            "6\n",
            "7\n",
            "8\n",
            "36\n"
          ]
        }
      ],
      "source": [
        "list1 = [1,2,3,4,5,6,7,8]\n",
        "accum = 0\n",
        "for val in list1:\n",
        "    print(val)\n",
        "    accum = accum + val\n",
        "print(accum)"
      ]
    },
    {
      "cell_type": "markdown",
      "metadata": {
        "id": "9Dy9hw0ak_4t"
      },
      "source": [
        "Starting from the following list of dictionaries, we add a new field to all dictionaries"
      ]
    },
    {
      "cell_type": "code",
      "execution_count": 13,
      "metadata": {
        "colab": {
          "base_uri": "https://localhost:8080/"
        },
        "id": "Uz6T5-tuk_4t",
        "outputId": "968fd4dc-c3d8-4e7e-fb7d-73ea85157ab8"
      },
      "outputs": [
        {
          "output_type": "execute_result",
          "data": {
            "text/plain": [
              "[{'cod_customer': 'A100', 'ant': 3, 'invoice': 45.6},\n",
              " {'cod_customer': 'A101', 'ant': 1, 'invoice': 15.2},\n",
              " {'cod_customer': 'B101', 'ant': 5, 'invoice': 28.5},\n",
              " {'cod_customer': 'C102', 'ant': 8, 'invoice': 22.3}]"
            ]
          },
          "metadata": {},
          "execution_count": 13
        }
      ],
      "source": [
        "customers = [\n",
        "{'cod_customer':'A100', 'ant':3, 'invoice': 45.6},\n",
        "{'cod_customer':'A101', 'ant':1, 'invoice': 15.2},\n",
        "{'cod_customer':'B101', 'ant':5, 'invoice': 28.5},\n",
        "{'cod_customer':'C102', 'ant':8, 'invoice': 22.3}\n",
        "]\n",
        "customers"
      ]
    },
    {
      "cell_type": "code",
      "execution_count": 48,
      "metadata": {
        "colab": {
          "base_uri": "https://localhost:8080/"
        },
        "id": "NhUYzWeIk_4t",
        "outputId": "fac15846-f484-4349-e08f-d8275bf344e8"
      },
      "outputs": [
        {
          "output_type": "execute_result",
          "data": {
            "text/plain": [
              "dict"
            ]
          },
          "metadata": {},
          "execution_count": 48
        }
      ],
      "source": [
        "type(customers[0])"
      ]
    },
    {
      "cell_type": "code",
      "execution_count": 49,
      "metadata": {
        "colab": {
          "base_uri": "https://localhost:8080/"
        },
        "id": "qhAOa6MFk_4t",
        "outputId": "8d1b3168-8770-4d6c-f963-450b9aba3ef4"
      },
      "outputs": [
        {
          "output_type": "stream",
          "name": "stdout",
          "text": [
            "A100\n",
            "<class 'dict'>\n",
            "A101\n",
            "<class 'dict'>\n",
            "B101\n",
            "<class 'dict'>\n",
            "C102\n",
            "<class 'dict'>\n"
          ]
        }
      ],
      "source": [
        "for cli in customers:\n",
        "    print(cli['cod_customer'])\n",
        "    print(type(cli))"
      ]
    },
    {
      "cell_type": "code",
      "execution_count": 56,
      "metadata": {
        "colab": {
          "base_uri": "https://localhost:8080/"
        },
        "id": "Cwx7SDkXk_4t",
        "outputId": "a4515c36-f87d-4017-85d9-7a8da7c80fcd"
      },
      "outputs": [
        {
          "output_type": "stream",
          "name": "stdout",
          "text": [
            "{'cod_customer': 'A100', 'ant': 3, 'invoice': 45.6}\n",
            "{'cod_customer': 'A101', 'ant': 1, 'invoice': 15.2}\n",
            "{'cod_customer': 'B101', 'ant': 5, 'invoice': 28.5}\n",
            "{'cod_customer': 'C102', 'ant': 8, 'invoice': 22.3}\n",
            "111.6\n"
          ]
        }
      ],
      "source": [
        "accum_invoice = 0\n",
        "for cli in customers:\n",
        "    print (cli)\n",
        "    accum_invoice = accum_invoice + cli['invoice']\n",
        "print(accum_invoice)"
      ]
    },
    {
      "cell_type": "code",
      "execution_count": 57,
      "metadata": {
        "colab": {
          "base_uri": "https://localhost:8080/"
        },
        "id": "M_-Br4dik_4t",
        "outputId": "11d146f2-5c72-464d-fb5a-2cb582964e21"
      },
      "outputs": [
        {
          "output_type": "execute_result",
          "data": {
            "text/plain": [
              "[{'cod_customer': 'A100', 'ant': 3, 'invoice': 45.6},\n",
              " {'cod_customer': 'A101', 'ant': 1, 'invoice': 15.2},\n",
              " {'cod_customer': 'B101', 'ant': 5, 'invoice': 28.5},\n",
              " {'cod_customer': 'C102', 'ant': 8, 'invoice': 22.3}]"
            ]
          },
          "metadata": {},
          "execution_count": 57
        }
      ],
      "source": [
        "customers"
      ]
    },
    {
      "cell_type": "code",
      "execution_count": 58,
      "metadata": {
        "colab": {
          "base_uri": "https://localhost:8080/"
        },
        "id": "wXdnHNCck_4t",
        "outputId": "27513814-0b2c-4b8c-8842-c0dffef984cb"
      },
      "outputs": [
        {
          "output_type": "stream",
          "name": "stdout",
          "text": [
            "B101\n",
            "C102\n"
          ]
        },
        {
          "output_type": "execute_result",
          "data": {
            "text/plain": [
              "['B101', 'C102']"
            ]
          },
          "metadata": {},
          "execution_count": 58
        }
      ],
      "source": [
        "lis_cli2 = []\n",
        "for cli in customers:\n",
        "    if cli['ant'] >= 4 and cli['invoice'] >= 15:\n",
        "        print(cli['cod_customer'])\n",
        "        lis_cli2.append(cli['cod_customer'])\n",
        "lis_cli2"
      ]
    },
    {
      "cell_type": "code",
      "execution_count": 59,
      "metadata": {
        "colab": {
          "base_uri": "https://localhost:8080/"
        },
        "id": "SgGc7PaLk_4t",
        "outputId": "498ed58e-73f9-4656-b51d-acdca60d855d"
      },
      "outputs": [
        {
          "output_type": "execute_result",
          "data": {
            "text/plain": [
              "[{'cod_customer': 'A100', 'ant': 3, 'invoice': 45.6},\n",
              " {'cod_customer': 'A101', 'ant': 1, 'invoice': 15.2},\n",
              " {'cod_customer': 'B101', 'ant': 5, 'invoice': 28.5},\n",
              " {'cod_customer': 'C102', 'ant': 8, 'invoice': 22.3}]"
            ]
          },
          "metadata": {},
          "execution_count": 59
        }
      ],
      "source": [
        "customers"
      ]
    },
    {
      "cell_type": "code",
      "execution_count": 60,
      "metadata": {
        "colab": {
          "base_uri": "https://localhost:8080/"
        },
        "id": "WxdLtDc2k_4t",
        "outputId": "765fbfe7-9c04-4c7e-9cc1-eb8cac85fd79"
      },
      "outputs": [
        {
          "output_type": "execute_result",
          "data": {
            "text/plain": [
              "[{'cod_customer': 'A100', 'ant': 3, 'invoice': 45.6, 'customer_type': 'A'},\n",
              " {'cod_customer': 'A101', 'ant': 1, 'invoice': 15.2, 'customer_type': 'B'},\n",
              " {'cod_customer': 'B101', 'ant': 5, 'invoice': 28.5, 'customer_type': 'B'},\n",
              " {'cod_customer': 'C102', 'ant': 8, 'invoice': 22.3, 'customer_type': 'B'}]"
            ]
          },
          "metadata": {},
          "execution_count": 60
        }
      ],
      "source": [
        "for cli in customers:\n",
        "    if cli['invoice'] >= 30:\n",
        "        cli['customer_type'] = 'A'\n",
        "    else:\n",
        "        cli['customer_type'] = 'B'\n",
        "customers"
      ]
    },
    {
      "cell_type": "markdown",
      "metadata": {
        "id": "imkmDOjdk_4t"
      },
      "source": [
        "Instructions __break__ and __continue__."
      ]
    },
    {
      "cell_type": "code",
      "execution_count": null,
      "metadata": {
        "id": "3g53QoNVk_4x",
        "outputId": "664899ec-934c-4bcc-aef5-0d5eab440b98"
      },
      "outputs": [
        {
          "name": "stdout",
          "output_type": "stream",
          "text": [
            "2\n",
            "4\n",
            "6\n",
            "8\n",
            "10\n"
          ]
        }
      ],
      "source": [
        "list2 = [2,4,5,6,7,8,10]\n",
        "for val in list2:\n",
        "    if val%2 > 0: # if not an even value skip to the next one\n",
        "        continue\n",
        "    print(val)"
      ]
    },
    {
      "cell_type": "code",
      "execution_count": null,
      "metadata": {
        "id": "vzR5WeA7k_4x",
        "outputId": "8dfa836d-e9fa-49d8-ec1a-4b04eb1839b4"
      },
      "outputs": [
        {
          "name": "stdout",
          "output_type": "stream",
          "text": [
            "2\n",
            "4\n"
          ]
        }
      ],
      "source": [
        "for val in list2:\n",
        "    if val%2 > 0: # if not an even value interrupts the loop\n",
        "        break\n",
        "    print(val)"
      ]
    },
    {
      "cell_type": "markdown",
      "metadata": {
        "id": "Bz3BqicFk_4x"
      },
      "source": [
        "Use of __ranges__"
      ]
    },
    {
      "cell_type": "code",
      "execution_count": 66,
      "metadata": {
        "colab": {
          "base_uri": "https://localhost:8080/"
        },
        "id": "OkklatVpk_4x",
        "outputId": "e3b4cf60-15df-41a7-e1a7-dcfc72bb3341"
      },
      "outputs": [
        {
          "output_type": "execute_result",
          "data": {
            "text/plain": [
              "[1, 2, 3, 4, 5, 6, 7, 8, 9]"
            ]
          },
          "metadata": {},
          "execution_count": 66
        }
      ],
      "source": [
        "list(range(1,10,1))"
      ]
    },
    {
      "cell_type": "code",
      "execution_count": 68,
      "metadata": {
        "colab": {
          "base_uri": "https://localhost:8080/"
        },
        "id": "Fy4HHhaMk_4x",
        "outputId": "f3abe9a5-9db4-40a0-c948-b371f90dccc7"
      },
      "outputs": [
        {
          "output_type": "stream",
          "name": "stdout",
          "text": [
            "1\n",
            "3\n",
            "5\n",
            "7\n",
            "9\n",
            "11\n",
            "13\n",
            "15\n",
            "17\n",
            "19\n"
          ]
        }
      ],
      "source": [
        "for i in range(1,20,2):\n",
        "    # loop prints 1 3 5 7 9 ...\n",
        "    print(i)"
      ]
    },
    {
      "cell_type": "code",
      "execution_count": 71,
      "metadata": {
        "colab": {
          "base_uri": "https://localhost:8080/"
        },
        "id": "66YfMrFmk_4y",
        "outputId": "bd37f16f-b75f-4c74-a328-92242736a53e"
      },
      "outputs": [
        {
          "output_type": "stream",
          "name": "stdout",
          "text": [
            "1\n",
            "3\n",
            "5\n",
            "7\n",
            "9\n",
            "11\n",
            "13\n",
            "15\n",
            "17\n",
            "19\n",
            "0\n",
            "-1\n",
            "-2\n",
            "-3\n",
            "-4\n",
            "-5\n",
            "-6\n",
            "-7\n",
            "-8\n",
            "-9\n"
          ]
        },
        {
          "output_type": "execute_result",
          "data": {
            "text/plain": [
              "[1, 3, 5, 7, 9]"
            ]
          },
          "metadata": {},
          "execution_count": 71
        }
      ],
      "source": [
        "for i in range(1,20,2):\n",
        "    # loop prints 1 3 5 7 9\n",
        "    print(i)\n",
        "\n",
        "for i in range(0,-10,-1):\n",
        "    print(i)\n",
        "\n",
        "lis1 = list(range(1,10,2))\n",
        "lis1"
      ]
    },
    {
      "cell_type": "markdown",
      "metadata": {
        "id": "LNZs2ymNk_4y"
      },
      "source": [
        "Example loop that iterate list of lists"
      ]
    },
    {
      "cell_type": "code",
      "execution_count": 72,
      "metadata": {
        "colab": {
          "base_uri": "https://localhost:8080/"
        },
        "id": "kn5asSbMk_4y",
        "outputId": "84dc0f06-7007-480e-8be2-868881a44a1c"
      },
      "outputs": [
        {
          "output_type": "execute_result",
          "data": {
            "text/plain": [
              "[['type 1', 1],\n",
              " ['type 1', 2],\n",
              " ['type 3', 4],\n",
              " ['type 1', 2],\n",
              " ['type 2', 2],\n",
              " ['type 4', 3],\n",
              " ['type 3', 1]]"
            ]
          },
          "metadata": {},
          "execution_count": 72
        }
      ],
      "source": [
        "list1 = [['type 1', 1],['type 1', 2],['type 3', 4],['type 1', 2],['type 2', 2],['type 4', 3],['type 3', 1]]\n",
        "list1"
      ]
    },
    {
      "cell_type": "markdown",
      "metadata": {
        "id": "-BaeqHGSk_4y"
      },
      "source": [
        "Count those of a specific type"
      ]
    },
    {
      "cell_type": "code",
      "execution_count": 75,
      "metadata": {
        "colab": {
          "base_uri": "https://localhost:8080/"
        },
        "id": "Q9B6OwB4k_4y",
        "outputId": "ff64e4ec-16a6-47df-def1-b853d30d4f53"
      },
      "outputs": [
        {
          "output_type": "stream",
          "name": "stdout",
          "text": [
            "['type 1', 1]\n",
            "['type 1', 2]\n",
            "['type 3', 4]\n",
            "['type 1', 2]\n",
            "['type 2', 2]\n",
            "['type 4', 3]\n",
            "['type 3', 1]\n"
          ]
        },
        {
          "output_type": "execute_result",
          "data": {
            "text/plain": [
              "5"
            ]
          },
          "metadata": {},
          "execution_count": 75
        }
      ],
      "source": [
        "sum = 0\n",
        "for lisitem in list1:\n",
        "    print(lisitem)\n",
        "    if lisitem[0]=='type 1':\n",
        "        sum = sum + lisitem[1]\n",
        "sum"
      ]
    },
    {
      "cell_type": "markdown",
      "metadata": {
        "id": "67uujAuXk_4y"
      },
      "source": [
        "Nested loops"
      ]
    },
    {
      "cell_type": "code",
      "execution_count": 83,
      "metadata": {
        "colab": {
          "base_uri": "https://localhost:8080/"
        },
        "id": "lm8ZySeBk_4y",
        "outputId": "b21c1f85-abac-490b-9344-13dae0b52ef4"
      },
      "outputs": [
        {
          "output_type": "stream",
          "name": "stdout",
          "text": [
            "Madrid\n",
            "M\n",
            "a\n",
            "d\n",
            "r\n",
            "i\n",
            "d\n",
            "Murcia\n",
            "M\n",
            "u\n",
            "r\n",
            "c\n",
            "i\n",
            "a\n",
            "Valladolid\n",
            "V\n",
            "a\n",
            "l\n",
            "l\n",
            "a\n",
            "d\n",
            "o\n",
            "l\n",
            "i\n",
            "d\n"
          ]
        }
      ],
      "source": [
        "listc = [\"Madrid\", \"Murcia\", \"Valladolid\"]\n",
        "for city in listc:\n",
        "    print(city)\n",
        "    for c in city:\n",
        "        print(c)"
      ]
    },
    {
      "cell_type": "code",
      "execution_count": 87,
      "metadata": {
        "colab": {
          "base_uri": "https://localhost:8080/"
        },
        "id": "0SQE5mtIk_4y",
        "outputId": "9c7fa635-fee7-476d-c78a-0a9497918caf"
      },
      "outputs": [
        {
          "output_type": "stream",
          "name": "stdout",
          "text": [
            "list1 [1, 2, 3]\n",
            "item 1\n",
            "item 2\n",
            "item 3\n",
            "list1 ['a', 'b', 'c']\n",
            "item a\n",
            "item b\n",
            "item c\n"
          ]
        }
      ],
      "source": [
        "list1 = [[1,2,3],['a','b','c']]\n",
        "for lis in list1:\n",
        "    print(\"list1\", lis)\n",
        "    for item in lis:\n",
        "        print(\"item\", item)"
      ]
    },
    {
      "cell_type": "markdown",
      "metadata": {
        "id": "FHm6tG1ok_4y"
      },
      "source": [
        "Loops that work with two vales in each iteration"
      ]
    },
    {
      "cell_type": "code",
      "execution_count": 88,
      "metadata": {
        "colab": {
          "base_uri": "https://localhost:8080/"
        },
        "id": "ZGEHoQdyk_4y",
        "outputId": "42df3dba-1b97-4255-8490-6f0f900deede"
      },
      "outputs": [
        {
          "output_type": "execute_result",
          "data": {
            "text/plain": [
              "['Madrid', 'Murcia', 'Valladolid']"
            ]
          },
          "metadata": {},
          "execution_count": 88
        }
      ],
      "source": [
        "listc"
      ]
    },
    {
      "cell_type": "code",
      "execution_count": 89,
      "metadata": {
        "colab": {
          "base_uri": "https://localhost:8080/"
        },
        "id": "U-3USvsmk_4y",
        "outputId": "d172de0f-ae04-415a-f0e6-e1ab9c7eff9a"
      },
      "outputs": [
        {
          "output_type": "execute_result",
          "data": {
            "text/plain": [
              "[(0, 'Madrid'), (1, 'Murcia'), (2, 'Valladolid')]"
            ]
          },
          "metadata": {},
          "execution_count": 89
        }
      ],
      "source": [
        "list(enumerate(listc))"
      ]
    },
    {
      "cell_type": "code",
      "execution_count": 90,
      "metadata": {
        "scrolled": true,
        "colab": {
          "base_uri": "https://localhost:8080/"
        },
        "id": "nUAdOmXbk_4y",
        "outputId": "f4499de6-7015-49e4-b1d4-2831d21545b6"
      },
      "outputs": [
        {
          "output_type": "stream",
          "name": "stdout",
          "text": [
            "0 Madrid\n",
            "1 Murcia\n",
            "2 Valladolid\n"
          ]
        }
      ],
      "source": [
        "# The enumerate function generates an index\n",
        "for i, val in enumerate(listc):\n",
        "    print(i,val)"
      ]
    },
    {
      "cell_type": "code",
      "execution_count": 91,
      "metadata": {
        "colab": {
          "base_uri": "https://localhost:8080/"
        },
        "id": "0xp2lIAKk_4z",
        "outputId": "2905627f-ad15-489d-8a7e-0648ff247cbd"
      },
      "outputs": [
        {
          "output_type": "stream",
          "name": "stdout",
          "text": [
            "(0, 'Madrid')\n",
            "(1, 'Murcia')\n",
            "(2, 'Valladolid')\n"
          ]
        }
      ],
      "source": [
        "for val in enumerate(listc):\n",
        "    print(val)"
      ]
    },
    {
      "cell_type": "code",
      "execution_count": 92,
      "metadata": {
        "colab": {
          "base_uri": "https://localhost:8080/"
        },
        "id": "jbIj5LCBk_4z",
        "outputId": "9931aa0a-0f89-49d3-a9a7-75ca6aa8b344"
      },
      "outputs": [
        {
          "output_type": "execute_result",
          "data": {
            "text/plain": [
              "[('a', 1, 10), ('b', 2, 20), ('c', 3, 30)]"
            ]
          },
          "metadata": {},
          "execution_count": 92
        }
      ],
      "source": [
        "lis3 = [('a',1,10), ('b',2,20), ('c',3,30)]\n",
        "lis3"
      ]
    },
    {
      "cell_type": "code",
      "execution_count": 93,
      "metadata": {
        "colab": {
          "base_uri": "https://localhost:8080/"
        },
        "id": "glezR-Ufk_4z",
        "outputId": "e46c4b00-e011-490c-f597-c5746cda6c76"
      },
      "outputs": [
        {
          "output_type": "stream",
          "name": "stdout",
          "text": [
            "a 1 10\n",
            "b 2 20\n",
            "c 3 30\n"
          ]
        }
      ],
      "source": [
        "for i, j, k in lis3:\n",
        "    print(i,j,k)"
      ]
    },
    {
      "cell_type": "markdown",
      "metadata": {
        "id": "c7s-zjCFk_4z"
      },
      "source": [
        "type __while__ loops"
      ]
    },
    {
      "cell_type": "code",
      "execution_count": 96,
      "metadata": {
        "colab": {
          "base_uri": "https://localhost:8080/"
        },
        "id": "u0h4Lyawk_40",
        "outputId": "f72af553-6ffb-4fca-80bf-772da35070c3"
      },
      "outputs": [
        {
          "output_type": "stream",
          "name": "stdout",
          "text": [
            "1\n",
            "2\n",
            "3\n",
            "4\n",
            "5\n",
            "6\n",
            "7\n",
            "8\n",
            "9\n",
            "10\n"
          ]
        }
      ],
      "source": [
        "a = 1\n",
        "while a <= 10:\n",
        "    print(a)\n",
        "    a+=1"
      ]
    },
    {
      "cell_type": "markdown",
      "metadata": {
        "id": "9o4Z5sRvk_40"
      },
      "source": [
        "From the current date obtain the following 10 days"
      ]
    },
    {
      "cell_type": "code",
      "execution_count": null,
      "metadata": {
        "id": "6wYKXrz4k_40",
        "outputId": "2f864f83-d496-44da-bdc3-dd697eff669d"
      },
      "outputs": [
        {
          "name": "stdout",
          "output_type": "stream",
          "text": [
            "2024-03-25\n"
          ]
        }
      ],
      "source": [
        "from datetime import date\n",
        "from datetime import datetime\n",
        "from datetime import timedelta\n",
        "date_ini = date.today()\n",
        "print(date_ini)"
      ]
    },
    {
      "cell_type": "code",
      "execution_count": null,
      "metadata": {
        "id": "VVfB5LuZk_40",
        "outputId": "a77483c4-a1cb-4d95-9158-24647bf404f9"
      },
      "outputs": [
        {
          "name": "stdout",
          "output_type": "stream",
          "text": [
            "1\n",
            "2024-03-26\n",
            "2\n",
            "2024-03-27\n",
            "3\n",
            "2024-03-28\n",
            "4\n",
            "2024-03-29\n",
            "5\n",
            "2024-03-30\n",
            "6\n",
            "2024-03-31\n",
            "7\n",
            "2024-04-01\n",
            "8\n",
            "2024-04-02\n",
            "9\n",
            "2024-04-03\n",
            "10\n",
            "2024-04-04\n"
          ]
        }
      ],
      "source": [
        "i = 0\n",
        "while i < 10:\n",
        "    i+=1\n",
        "    date = date_ini + timedelta(days=i)\n",
        "    print(i)\n",
        "    print(date)"
      ]
    },
    {
      "cell_type": "code",
      "execution_count": null,
      "metadata": {
        "id": "y4fXSdnbk_40",
        "outputId": "2630fff3-35fa-428e-eb3a-7bcfa8c858df"
      },
      "outputs": [
        {
          "name": "stdout",
          "output_type": "stream",
          "text": [
            "1\n",
            "2024-03-26\n",
            "2\n",
            "2024-03-27\n",
            "3\n",
            "2024-03-28\n",
            "4\n",
            "2024-03-29\n",
            "5\n",
            "2024-03-30\n",
            "6\n",
            "2024-03-31\n",
            "7\n",
            "2024-04-01\n",
            "8\n",
            "2024-04-02\n",
            "9\n",
            "2024-04-03\n",
            "10\n",
            "2024-04-04\n"
          ]
        }
      ],
      "source": [
        "for i in range(1,11,1):\n",
        "    print(i)\n",
        "    date = date_ini + timedelta(days=i)\n",
        "    print(date)"
      ]
    },
    {
      "cell_type": "markdown",
      "metadata": {
        "id": "9DBCHurTk_41"
      },
      "source": [
        "From a specific date to get every day of the month until change of month, excluding weekends"
      ]
    },
    {
      "cell_type": "code",
      "execution_count": null,
      "metadata": {
        "id": "PJlBNvfNk_41",
        "outputId": "c6b7e617-c926-4ca2-8087-eda80cb358a8"
      },
      "outputs": [
        {
          "data": {
            "text/plain": [
              "3"
            ]
          },
          "execution_count": 68,
          "metadata": {},
          "output_type": "execute_result"
        }
      ],
      "source": [
        "v_date = date(2024,3,14)\n",
        "v_date.weekday()"
      ]
    },
    {
      "cell_type": "code",
      "execution_count": null,
      "metadata": {
        "id": "y2lcY3D2k_41"
      },
      "outputs": [],
      "source": [
        "date_ini = date(2024,5,14)"
      ]
    },
    {
      "cell_type": "code",
      "execution_count": null,
      "metadata": {
        "id": "HPbcW-fkk_41",
        "outputId": "4906bbb8-0722-48b4-c859-c2a2ef0ae6ca"
      },
      "outputs": [
        {
          "name": "stdout",
          "output_type": "stream",
          "text": [
            "2024-05-14\n",
            "2024-05-15\n",
            "2024-05-16\n",
            "2024-05-17\n",
            "2024-05-20\n",
            "2024-05-21\n",
            "2024-05-22\n",
            "2024-05-23\n",
            "2024-05-24\n",
            "2024-05-27\n",
            "2024-05-28\n",
            "2024-05-29\n",
            "2024-05-30\n",
            "2024-05-31\n"
          ]
        }
      ],
      "source": [
        "i = 0\n",
        "v_date = date_ini\n",
        "while v_date.month == date_ini.month:\n",
        "    if v_date.weekday() != 5 and v_date.weekday() != 6: # another way:  if v_date.weekday() not in [5,6]:\n",
        "        print(v_date)\n",
        "    i = i + 1\n",
        "    v_date = date_ini + timedelta(days=i)"
      ]
    },
    {
      "cell_type": "markdown",
      "metadata": {
        "id": "e5zPhGTCk_41"
      },
      "source": [
        "Another way to work with loops -> list comprehension\n",
        "\n",
        "[expression for x in iterable if any_condition]"
      ]
    },
    {
      "cell_type": "code",
      "execution_count": null,
      "metadata": {
        "id": "Se1KG0qak_41"
      },
      "outputs": [],
      "source": [
        "lis1 = [1,2,3,4,5]"
      ]
    },
    {
      "cell_type": "code",
      "execution_count": null,
      "metadata": {
        "scrolled": true,
        "id": "xHXEvG4ck_42",
        "outputId": "19d336a7-bd1d-4dd9-d3de-15e7bbbd3887"
      },
      "outputs": [
        {
          "data": {
            "text/plain": [
              "[2, 4, 6, 8, 10]"
            ]
          },
          "execution_count": 77,
          "metadata": {},
          "output_type": "execute_result"
        }
      ],
      "source": [
        "lis2 = []\n",
        "for i in lis1:\n",
        "    lis2.append(i*2)\n",
        "lis2"
      ]
    },
    {
      "cell_type": "markdown",
      "metadata": {
        "id": "ilaPCoE7k_42"
      },
      "source": [
        "The same with a list comprehension"
      ]
    },
    {
      "cell_type": "code",
      "execution_count": null,
      "metadata": {
        "id": "FKAKSlVjk_42",
        "outputId": "21eae11a-e89f-4be3-9deb-512a72cb9e8b"
      },
      "outputs": [
        {
          "data": {
            "text/plain": [
              "[2, 4, 6, 8, 10]"
            ]
          },
          "execution_count": 78,
          "metadata": {},
          "output_type": "execute_result"
        }
      ],
      "source": [
        "lis2 = [i*2 for i in lis1]\n",
        "lis2"
      ]
    },
    {
      "cell_type": "markdown",
      "metadata": {
        "id": "XzpMKgHvk_42"
      },
      "source": [
        "Test with larger volume of data"
      ]
    },
    {
      "cell_type": "code",
      "execution_count": null,
      "metadata": {
        "id": "n2fv4eGIk_42"
      },
      "outputs": [],
      "source": [
        "lis1 = list(range(1,1000000))"
      ]
    },
    {
      "cell_type": "code",
      "execution_count": null,
      "metadata": {
        "scrolled": true,
        "id": "EQXK7nLck_42",
        "outputId": "e40f4dd0-2bc4-4033-e00b-f1cbbb35b6c5"
      },
      "outputs": [
        {
          "name": "stdout",
          "output_type": "stream",
          "text": [
            "CPU times: total: 156 ms\n",
            "Wall time: 160 ms\n"
          ]
        },
        {
          "data": {
            "text/plain": [
              "[2, 4, 6, 8, 10, 12, 14, 16, 18, 20]"
            ]
          },
          "execution_count": 85,
          "metadata": {},
          "output_type": "execute_result"
        }
      ],
      "source": [
        "%%time\n",
        "lis2 = []\n",
        "for i in lis1:\n",
        "    lis2.append(i*2)\n",
        "lis2[0:10]"
      ]
    },
    {
      "cell_type": "code",
      "execution_count": null,
      "metadata": {
        "id": "1_-ftTrMk_43",
        "outputId": "7401acb9-9486-41b3-c666-5b58f30ce2ce"
      },
      "outputs": [
        {
          "name": "stdout",
          "output_type": "stream",
          "text": [
            "CPU times: total: 78.1 ms\n",
            "Wall time: 78.8 ms\n"
          ]
        },
        {
          "data": {
            "text/plain": [
              "[2, 4, 6, 8, 10, 12, 14, 16, 18, 20]"
            ]
          },
          "execution_count": 86,
          "metadata": {},
          "output_type": "execute_result"
        }
      ],
      "source": [
        "%%time\n",
        "lis2 = [i*2 for i in lis1]\n",
        "lis2[0:10]"
      ]
    },
    {
      "cell_type": "code",
      "execution_count": null,
      "metadata": {
        "id": "5cjTKw2Kk_43",
        "outputId": "54149688-992b-4708-ac11-4a1dd992e54c"
      },
      "outputs": [
        {
          "data": {
            "text/plain": [
              "[1, 4, 9, 16, 25, 36, 49, 64, 81, 100]"
            ]
          },
          "execution_count": 87,
          "metadata": {},
          "output_type": "execute_result"
        }
      ],
      "source": [
        "lis3 = [i*i for i in lis1]\n",
        "lis3[0:10]"
      ]
    },
    {
      "cell_type": "code",
      "execution_count": null,
      "metadata": {
        "id": "KzPtz78uk_43",
        "outputId": "2be774b2-6e72-40d1-cbfa-917a250b80ba"
      },
      "outputs": [
        {
          "data": {
            "text/plain": [
              "[[1, 1],\n",
              " [2, 4],\n",
              " [3, 9],\n",
              " [4, 16],\n",
              " [5, 25],\n",
              " [6, 36],\n",
              " [7, 49],\n",
              " [8, 64],\n",
              " [9, 81],\n",
              " [10, 100]]"
            ]
          },
          "execution_count": 88,
          "metadata": {},
          "output_type": "execute_result"
        }
      ],
      "source": [
        "lis4 = [[i, i*i] for i in lis1]\n",
        "lis4[0:10]"
      ]
    },
    {
      "cell_type": "code",
      "execution_count": null,
      "metadata": {
        "id": "qcMxv89ak_43",
        "outputId": "73bf968c-7d88-464a-b8c1-42979c976333"
      },
      "outputs": [
        {
          "data": {
            "text/plain": [
              "[9, 16, 25, 36, 49, 64, 81, 100, 121, 144]"
            ]
          },
          "execution_count": 90,
          "metadata": {},
          "output_type": "execute_result"
        }
      ],
      "source": [
        "lis5 = [i*i for i in lis1 if i > 2]\n",
        "lis5[0:10]"
      ]
    }
  ],
  "metadata": {
    "kernelspec": {
      "display_name": "Python 3 (ipykernel)",
      "language": "python",
      "name": "python3"
    },
    "language_info": {
      "codemirror_mode": {
        "name": "ipython",
        "version": 3
      },
      "file_extension": ".py",
      "mimetype": "text/x-python",
      "name": "python",
      "nbconvert_exporter": "python",
      "pygments_lexer": "ipython3",
      "version": "3.10.9"
    },
    "colab": {
      "provenance": [],
      "include_colab_link": true
    }
  },
  "nbformat": 4,
  "nbformat_minor": 0
}